{
 "cells": [
  {
   "cell_type": "markdown",
   "metadata": {},
   "source": [
    "# Visualize"
   ]
  },
  {
   "cell_type": "code",
   "execution_count": 1,
   "metadata": {},
   "outputs": [],
   "source": [
    "import pandas as pd\n",
    "df = pd.read_json('./topics.json', orient='records', lines=True)"
   ]
  },
  {
   "cell_type": "code",
   "execution_count": 2,
   "metadata": {},
   "outputs": [
    {
     "data": {
      "text/html": [
       "<div>\n",
       "<style scoped>\n",
       "    .dataframe tbody tr th:only-of-type {\n",
       "        vertical-align: middle;\n",
       "    }\n",
       "\n",
       "    .dataframe tbody tr th {\n",
       "        vertical-align: top;\n",
       "    }\n",
       "\n",
       "    .dataframe thead th {\n",
       "        text-align: right;\n",
       "    }\n",
       "</style>\n",
       "<table border=\"1\" class=\"dataframe\">\n",
       "  <thead>\n",
       "    <tr style=\"text-align: right;\">\n",
       "      <th></th>\n",
       "      <th>news_count</th>\n",
       "      <th>name</th>\n",
       "      <th>description</th>\n",
       "      <th>category</th>\n",
       "      <th>subcategories</th>\n",
       "      <th>representative_docs</th>\n",
       "      <th>date</th>\n",
       "      <th>embedding</th>\n",
       "      <th>topic_id</th>\n",
       "    </tr>\n",
       "  </thead>\n",
       "  <tbody>\n",
       "    <tr>\n",
       "      <th>0</th>\n",
       "      <td>7</td>\n",
       "      <td>Shifts in Global Investment Strategies Amid Do...</td>\n",
       "      <td>As of May 29, 2025, financial markets are witn...</td>\n",
       "      <td>Economy</td>\n",
       "      <td>[[\"Economy/Foreign-Exchange\", \"Economy/Busines...</td>\n",
       "      <td>[LONDON, May 29 (Reuters Breakingviews) - Fore...</td>\n",
       "      <td>2025-05-29</td>\n",
       "      <td>[-0.0353155273, -0.033418637, -0.0125434756000...</td>\n",
       "      <td>23</td>\n",
       "    </tr>\n",
       "    <tr>\n",
       "      <th>1</th>\n",
       "      <td>13</td>\n",
       "      <td>Ceasefire Between India and Pakistan Amid Esca...</td>\n",
       "      <td>On May 11, 2025, a fragile ceasefire was holdi...</td>\n",
       "      <td>Society</td>\n",
       "      <td>[[\"Society/War-Conflict\", \"Politics/Foreign-Re...</td>\n",
       "      <td>[Takeaways NEW\\n\\nIndia and Pakistan signaled ...</td>\n",
       "      <td>2025-05-11</td>\n",
       "      <td>[-0.0374452829, -0.0021498876000000003, -0.005...</td>\n",
       "      <td>3602</td>\n",
       "    </tr>\n",
       "    <tr>\n",
       "      <th>2</th>\n",
       "      <td>5</td>\n",
       "      <td>Establishment of a Special Tribunal for Russia...</td>\n",
       "      <td>On May 9, 2025, in Lviv, Ukraine, foreign mini...</td>\n",
       "      <td>Politics</td>\n",
       "      <td>[[\"Politics/Government\", \"Politics/Foreign-Rel...</td>\n",
       "      <td>[Europe stands behind a new special tribunal f...</td>\n",
       "      <td>2025-05-09</td>\n",
       "      <td>[-0.0384946102, -0.0293747961, -0.0159788017, ...</td>\n",
       "      <td>140</td>\n",
       "    </tr>\n",
       "    <tr>\n",
       "      <th>3</th>\n",
       "      <td>12</td>\n",
       "      <td>Trade Negotiations and Tariff Discussions at A...</td>\n",
       "      <td>On May 16, 2025, during the Asia-Pacific Econo...</td>\n",
       "      <td>Economy</td>\n",
       "      <td>[[\"Economy/Economic-Union\", \"Economy/Trade\"]]</td>\n",
       "      <td>[.She believes Taiwan may have agreed to reval...</td>\n",
       "      <td>2025-05-16</td>\n",
       "      <td>[-0.0136486495, -0.0161886002, -0.0189094637, ...</td>\n",
       "      <td>2058</td>\n",
       "    </tr>\n",
       "    <tr>\n",
       "      <th>4</th>\n",
       "      <td>32</td>\n",
       "      <td>Ongoing Conflict and Diplomatic Efforts in Ukr...</td>\n",
       "      <td>On May 7, 2025, French President Emmanuel Macr...</td>\n",
       "      <td>Politics</td>\n",
       "      <td>[[\"Politics/Government\", \"War-Conflict/Conflic...</td>\n",
       "      <td>[May 7   - President Volodymyr Zelenskiy said ...</td>\n",
       "      <td>2025-05-07</td>\n",
       "      <td>[-0.0477987298, -0.0107033909, -0.0104101783, ...</td>\n",
       "      <td>140</td>\n",
       "    </tr>\n",
       "  </tbody>\n",
       "</table>\n",
       "</div>"
      ],
      "text/plain": [
       "   news_count                                               name  \\\n",
       "0           7  Shifts in Global Investment Strategies Amid Do...   \n",
       "1          13  Ceasefire Between India and Pakistan Amid Esca...   \n",
       "2           5  Establishment of a Special Tribunal for Russia...   \n",
       "3          12  Trade Negotiations and Tariff Discussions at A...   \n",
       "4          32  Ongoing Conflict and Diplomatic Efforts in Ukr...   \n",
       "\n",
       "                                         description  category  \\\n",
       "0  As of May 29, 2025, financial markets are witn...   Economy   \n",
       "1  On May 11, 2025, a fragile ceasefire was holdi...   Society   \n",
       "2  On May 9, 2025, in Lviv, Ukraine, foreign mini...  Politics   \n",
       "3  On May 16, 2025, during the Asia-Pacific Econo...   Economy   \n",
       "4  On May 7, 2025, French President Emmanuel Macr...  Politics   \n",
       "\n",
       "                                       subcategories  \\\n",
       "0  [[\"Economy/Foreign-Exchange\", \"Economy/Busines...   \n",
       "1  [[\"Society/War-Conflict\", \"Politics/Foreign-Re...   \n",
       "2  [[\"Politics/Government\", \"Politics/Foreign-Rel...   \n",
       "3      [[\"Economy/Economic-Union\", \"Economy/Trade\"]]   \n",
       "4  [[\"Politics/Government\", \"War-Conflict/Conflic...   \n",
       "\n",
       "                                 representative_docs       date  \\\n",
       "0  [LONDON, May 29 (Reuters Breakingviews) - Fore... 2025-05-29   \n",
       "1  [Takeaways NEW\\n\\nIndia and Pakistan signaled ... 2025-05-11   \n",
       "2  [Europe stands behind a new special tribunal f... 2025-05-09   \n",
       "3  [.She believes Taiwan may have agreed to reval... 2025-05-16   \n",
       "4  [May 7   - President Volodymyr Zelenskiy said ... 2025-05-07   \n",
       "\n",
       "                                           embedding  topic_id  \n",
       "0  [-0.0353155273, -0.033418637, -0.0125434756000...        23  \n",
       "1  [-0.0374452829, -0.0021498876000000003, -0.005...      3602  \n",
       "2  [-0.0384946102, -0.0293747961, -0.0159788017, ...       140  \n",
       "3  [-0.0136486495, -0.0161886002, -0.0189094637, ...      2058  \n",
       "4  [-0.0477987298, -0.0107033909, -0.0104101783, ...       140  "
      ]
     },
     "execution_count": 2,
     "metadata": {},
     "output_type": "execute_result"
    }
   ],
   "source": [
    "df.head()"
   ]
  },
  {
   "cell_type": "markdown",
   "metadata": {},
   "source": [
    "### Project Embeddings"
   ]
  },
  {
   "cell_type": "code",
   "execution_count": 3,
   "metadata": {},
   "outputs": [],
   "source": [
    "import numpy as np\n",
    "from sklearn.decomposition import PCA"
   ]
  },
  {
   "cell_type": "code",
   "execution_count": 4,
   "metadata": {},
   "outputs": [],
   "source": [
    "X = np.array(df['embedding'].tolist())"
   ]
  },
  {
   "cell_type": "code",
   "execution_count": 5,
   "metadata": {},
   "outputs": [],
   "source": [
    "pca = PCA(n_components=2)\n",
    "X_reduced = pca.fit_transform(X)"
   ]
  },
  {
   "cell_type": "code",
   "execution_count": 6,
   "metadata": {},
   "outputs": [],
   "source": [
    "df['pca_embed']=X_reduced.tolist()"
   ]
  },
  {
   "cell_type": "code",
   "execution_count": 7,
   "metadata": {},
   "outputs": [],
   "source": [
    "topic_embed = (\n",
    "    df.groupby(\"topic_id\")[\"pca_embed\"]\n",
    "    .apply(lambda rows: np.mean(np.stack(rows), axis=0).tolist())\n",
    ")"
   ]
  },
  {
   "cell_type": "markdown",
   "metadata": {},
   "source": [
    "### Topic Attention, Names"
   ]
  },
  {
   "cell_type": "code",
   "execution_count": 8,
   "metadata": {},
   "outputs": [],
   "source": [
    "topic_attention = df.groupby('topic_id')['news_count'].sum()"
   ]
  },
  {
   "cell_type": "code",
   "execution_count": 9,
   "metadata": {},
   "outputs": [],
   "source": [
    "idx = topic_attention.index"
   ]
  },
  {
   "cell_type": "code",
   "execution_count": 10,
   "metadata": {},
   "outputs": [],
   "source": [
    "names = ['Oil Markets',\n",
    "               'US Monetary Policy', \n",
    "               'Private Markets', \n",
    "               'US-China Trade Relations', \n",
    "               'Currencies',\n",
    "               'Global Economic Reports',\n",
    "               'Manufacturing',\n",
    "               'US-Europe Diplomacy',\n",
    "               'Q1 2025 Financial Results', \n",
    "               'Gaza Humanitarian Crisis',\n",
    "               'Global Inflation', \n",
    "               'Musk-Trump Relations', \n",
    "               'Ukrain-Russia War',\n",
    "               'Trump Tariffs',\n",
    "               'Artificial Intelligence', \n",
    "               'European Financial Sector', \n",
    "               'Iran-US Nuclear Negotations', \n",
    "               'Global Agricultural Industry', \n",
    "               'India-Pakistan Conflict', \n",
    "               'Trump Tax Bill',\n",
    "              ]\n",
    "for i in range(len(names)):\n",
    "    names[i] = f'{i}. ' + names[i]\n",
    "topic_names = pd.Series(data=names, index=idx, name='name')"
   ]
  },
  {
   "cell_type": "markdown",
   "metadata": {},
   "source": [
    "### Combine"
   ]
  },
  {
   "cell_type": "code",
   "execution_count": 11,
   "metadata": {},
   "outputs": [],
   "source": [
    "df_plot = pd.concat([topic_embed, topic_attention, topic_names], axis=1)"
   ]
  },
  {
   "cell_type": "code",
   "execution_count": 12,
   "metadata": {
    "scrolled": true
   },
   "outputs": [],
   "source": [
    "x = np.array([x[0] for x in df_plot['pca_embed']])\n",
    "y = np.array([x[1] for x in df_plot['pca_embed']])\n",
    "attention = np.array(df_plot['news_count'].tolist())\n",
    "names = df_plot['name']"
   ]
  },
  {
   "cell_type": "markdown",
   "metadata": {},
   "source": [
    "## Create Topic Plot"
   ]
  },
  {
   "cell_type": "code",
   "execution_count": 14,
   "metadata": {},
   "outputs": [],
   "source": [
    "from typing import List\n",
    "import numpy as np\n",
    "import pandas as pd\n",
    "import plotly.express as px\n",
    "import plotly.graph_objects as go\n",
    "from PIL import Image\n",
    "from sklearn.preprocessing import minmax_scale\n",
    "from wordcloud import WordCloud\n",
    "from topicwizard.plots.utils import get_default_font_path\n",
    "import textwrap\n",
    "import colorsys\n",
    "\n",
    "neon_colors = [\n",
    "        \"rgb(255, 20, 147)\",   # Deep Pink\n",
    "        \"rgb(0, 255, 255)\",    # Cyan\n",
    "        \"rgb(50, 205, 50)\",    # Lime Green\n",
    "        \"rgb(255, 69, 0)\",     # Red Orange\n",
    "        \"rgb(148, 0, 211)\",    # Dark Violet\n",
    "        \"rgb(255, 215, 0)\",    # Gold\n",
    "        \"rgb(0, 191, 255)\",    # Deep Sky Blue\n",
    "        \"rgb(255, 105, 180)\",  # Hot Pink\n",
    "        \"rgb(127, 255, 0)\",    # Chartreuse\n",
    "        \"rgb(255, 20, 147)\",   # Deep Pink\n",
    "        \"rgb(0, 255, 127)\",    # Spring Green\n",
    "        \"rgb(255, 0, 255)\",    # Magenta\n",
    "        \"rgb(0, 255, 0)\",      # Lime\n",
    "        \"rgb(255, 140, 0)\",    # Dark Orange\n",
    "        \"rgb(138, 43, 226)\",   # Blue Violet\n",
    "        \"rgb(255, 255, 0)\",    # Yellow\n",
    "    ]\n",
    "def wrap_text_for_marker(text: str, marker_size: float, chars_per_line: int = None) -> str:\n",
    "    \"\"\"\n",
    "    Wrap text to fit inside a marker based on marker size.\n",
    "    \n",
    "    Args:\n",
    "        text: The text to wrap\n",
    "        marker_size: The size of the marker\n",
    "        chars_per_line: Maximum characters per line (auto-calculated if None)\n",
    "    \n",
    "    Returns:\n",
    "        Text with <br> tags for line breaks\n",
    "    \"\"\"\n",
    "    if chars_per_line is None:\n",
    "        # Estimate characters per line based on marker size\n",
    "        # This is a rough approximation - you may need to adjust the scaling factor\n",
    "        base_chars = 8  # Base number of characters for smallest marker\n",
    "        chars_per_line = max(4, int(base_chars + (marker_size - 1) * 6))\n",
    "    \n",
    "    # Remove HTML tags if any\n",
    "    clean_text = text.replace(\"<b>\", \"\").replace(\"</b>\", \"\")\n",
    "    \n",
    "    # Wrap the text\n",
    "    wrapped_lines = textwrap.wrap(clean_text, width=chars_per_line)\n",
    "    \n",
    "    # Join with HTML line breaks and re-add bold formatting\n",
    "    wrapped_text = \"<br>\".join([f\"<b>{line}</b>\" for line in wrapped_lines])\n",
    "    \n",
    "    return wrapped_text\n",
    "\n",
    "def calculate_font_size(marker_size: float, num_lines: int) -> int:\n",
    "    \"\"\"\n",
    "    Calculate appropriate font size based on marker size and number of text lines.\n",
    "    \n",
    "    Args:\n",
    "        marker_size: The size of the marker\n",
    "        num_lines: Number of lines of text\n",
    "    \n",
    "    Returns:\n",
    "        Font size in pixels\n",
    "    \"\"\"\n",
    "    # Base font size calculation\n",
    "    base_font_size = max(6, int(marker_size * 8))\n",
    "    \n",
    "    # Reduce font size if there are multiple lines\n",
    "    if num_lines > 1:\n",
    "        base_font_size = max(4, int(base_font_size / (1 + 0.2 * (num_lines - 1))))\n",
    "    \n",
    "    return min(base_font_size, 14)  # Cap at 16px\n",
    "\n",
    "def intertopic_map(\n",
    "    x: np.ndarray,\n",
    "    y: np.ndarray,\n",
    "    topic_importances: np.ndarray,\n",
    "    topic_names: List[str],\n",
    "    max_chars_per_line: int = None,\n",
    ") -> go.Figure:\n",
    "    \"\"\"\n",
    "    Create an intertopic map with text that fits inside markers.\n",
    "    \n",
    "    Args:\n",
    "        x: X coordinates for topics\n",
    "        y: Y coordinates for topics\n",
    "        topic_importances: Importance scores for topics\n",
    "        topic_names: Names/labels for topics\n",
    "        max_chars_per_line: Maximum characters per line (auto-calculated if None)\n",
    "    \n",
    "    Returns:\n",
    "        Plotly figure\n",
    "    \"\"\"\n",
    "    # Scale marker sizes\n",
    "    size = 30 + minmax_scale(topic_importances) * 70  # Increased scaling for better visibility\n",
    "    \n",
    "    # Wrap text for each marker based on its size\n",
    "    wrapped_texts = []\n",
    "    font_sizes = []\n",
    "    \n",
    "    for i, (name, marker_size) in enumerate(zip(topic_names, size)):\n",
    "        wrapped_text = wrap_text_for_marker(name, marker_size, max_chars_per_line)\n",
    "        wrapped_texts.append(wrapped_text)\n",
    "        \n",
    "        # Count lines for font size calculation\n",
    "        num_lines = wrapped_text.count(\"<br>\") + 1\n",
    "        font_size = calculate_font_size(marker_size, num_lines)\n",
    "        font_sizes.append(font_size)\n",
    "    \n",
    "    # Create the scatter plot\n",
    "    topic_trace = go.Scatter(\n",
    "        x=x,\n",
    "        y=y,\n",
    "        mode=\"text+markers\",\n",
    "        text=wrapped_texts,\n",
    "        textfont=dict(size=font_sizes),  # Use calculated font sizes\n",
    "        marker=dict(\n",
    "            size=size,\n",
    "            sizemode=\"area\",\n",
    "            sizeref=2.0 * max(size) / (100.0**2),\n",
    "            sizemin=10,  # Increased minimum size to accommodate text\n",
    "            color=generate_neon_colors(len(x)),\n",
    "            line=dict(width=2, color=\"black\"),\n",
    "            opacity=0.8,  # Slightly transparent for better text visibility\n",
    "        ),\n",
    "        customdata=np.atleast_2d(np.arange(x.shape[0])).T,\n",
    "        textposition=\"middle center\",  # Center text in markers\n",
    "    )\n",
    "    \n",
    "    fig = go.Figure([topic_trace])\n",
    "    fig.update_layout(\n",
    "        clickmode=\"event\",\n",
    "        modebar_remove=[\"lasso2d\", \"select2d\"],\n",
    "        showlegend=False,\n",
    "        hovermode=\"closest\",\n",
    "        plot_bgcolor=\"white\",\n",
    "        dragmode=\"pan\",\n",
    "        margin=dict(l=20, r=20, b=20, t=20, pad=10),  # Added some margin\n",
    "        font=dict(family=\"Arial, sans-serif\"),  # Consistent font family\n",
    "    )\n",
    "    \n",
    "    # Remove hover info since text is already visible\n",
    "    fig.update_traces(hovertemplate=\"\", hoverinfo=\"none\")\n",
    "    fig.update_coloraxes(showscale=False)\n",
    "    \n",
    "    # Style axes\n",
    "    fig.update_xaxes(\n",
    "        showticklabels=False,\n",
    "        title=\"\",\n",
    "        gridcolor=\"#e5e7eb\",\n",
    "        linecolor=\"#f9fafb\",\n",
    "        linewidth=6,\n",
    "        mirror=True,\n",
    "        zerolinewidth=2,\n",
    "        zerolinecolor=\"#d1d5db\",\n",
    "        showgrid=False,\n",
    "    )\n",
    "    fig.update_yaxes(\n",
    "        showticklabels=False,\n",
    "        title=\"\",\n",
    "        gridcolor=\"#e5e7eb\",\n",
    "        linecolor=\"#f9fafb\",\n",
    "        mirror=True,\n",
    "        linewidth=6,\n",
    "        zerolinewidth=2,\n",
    "        zerolinecolor=\"#d1d5db\",\n",
    "        showgrid=False,\n",
    "    )\n",
    "    fig.update_xaxes(visible=False)\n",
    "    fig.update_yaxes(visible=False)\n",
    "    return fig\n",
    "\n",
    "def generate_neon_colors(n_colors: int) -> List[str]:\n",
    "    \"\"\"\n",
    "    Generate a list of vibrant neon colors with transparency.\n",
    "    \n",
    "    Args:\n",
    "        n_colors: Number of colors to generate\n",
    "        \n",
    "    Returns:\n",
    "        List of RGBA color strings\n",
    "    \"\"\"\n",
    "    neon_colors = []\n",
    "    \n",
    "    # Pre-defined neon colors for variety\n",
    "    base_neon_hues = [\n",
    "        (0.83, 1.0, 1.0),    # Neon Blue/Cyan\n",
    "        (0.33, 1.0, 1.0),    # Neon Green\n",
    "        (0.17, 1.0, 1.0),    # Neon Orange/Yellow\n",
    "        (0.92, 1.0, 1.0),    # Neon Pink/Magenta\n",
    "        (0.58, 1.0, 1.0),    # Neon Purple\n",
    "        (0.08, 1.0, 1.0),    # Neon Red\n",
    "        (0.50, 1.0, 1.0),    # Neon Cyan\n",
    "        (0.75, 1.0, 1.0),    # Neon Violet\n",
    "        (0.42, 1.0, 1.0),    # Neon Lime\n",
    "        (0.0, 1.0, 1.0),     # Neon Red-Pink\n",
    "        (0.25, 1.0, 1.0),    # Neon Yellow-Green\n",
    "        (0.67, 1.0, 1.0),    # Neon Blue-Purple\n",
    "    ]\n",
    "    \n",
    "    # If we need more colors than pre-defined, generate additional ones\n",
    "    if n_colors > len(base_neon_hues):\n",
    "        for i in range(len(base_neon_hues), n_colors):\n",
    "            hue = (i / n_colors) % 1.0\n",
    "            base_neon_hues.append((hue, 1.0, 1.0))\n",
    "    \n",
    "    # Convert HSV to RGB and create RGBA strings\n",
    "    for i in range(n_colors):\n",
    "        h, s, v = base_neon_hues[i % len(base_neon_hues)]\n",
    "        r, g, b = colorsys.hsv_to_rgb(h, s, v)\n",
    "        \n",
    "        # Convert to 0-255 range and create RGBA with transparency\n",
    "        r_255 = int(r * 255)\n",
    "        g_255 = int(g * 255)\n",
    "        b_255 = int(b * 255)\n",
    "        \n",
    "        # Use 0.7 alpha for nice transparency while maintaining vibrancy\n",
    "        rgba_color = f\"rgba({r_255}, {g_255}, {b_255}, 0.7)\"\n",
    "        neon_colors.append(rgba_color)\n",
    "    \n",
    "    return neon_colors\n",
    "\n",
    "fig_topic_map = intertopic_map(x=x[9:],y=y[9:],topic_importances=attention[9:],topic_names=names[9:])"
   ]
  },
  {
   "cell_type": "markdown",
   "metadata": {},
   "source": [
    "## Time Plot"
   ]
  },
  {
   "cell_type": "markdown",
   "metadata": {},
   "source": [
    "### Prepare Data"
   ]
  },
  {
   "cell_type": "code",
   "execution_count": 15,
   "metadata": {},
   "outputs": [],
   "source": [
    "all_dates = pd.date_range(df[\"date\"].min(), df[\"date\"].max())\n",
    "# Pivot, fill missing with 0\n",
    "pivoted = df.pivot_table(\n",
    "    index=\"topic_id\",\n",
    "    columns=\"date\",\n",
    "    values=\"news_count\",\n",
    "    aggfunc=\"sum\",\n",
    "    fill_value=0\n",
    ").reindex(columns=all_dates, fill_value=0)\n",
    "# get the time series for each topic\n",
    "time_series = pivoted.apply(lambda row: row.tolist(), axis=1)"
   ]
  },
  {
   "cell_type": "code",
   "execution_count": 16,
   "metadata": {},
   "outputs": [],
   "source": [
    "def document_timeline(\n",
    "    topic_timeline: np.ndarray, \n",
    "    topic_names: List[str], \n",
    "    # topic_colors: np.ndarray\n",
    ") -> go.Figure:\n",
    "    topic_timeline = topic_timeline.T\n",
    "    traces = []\n",
    "    n_topics = len(topic_names)\n",
    "    for topic_id in range(n_topics):\n",
    "        timeline = topic_timeline.iloc[topic_id]\n",
    "        timeline = np.squeeze(np.asarray(timeline))\n",
    "        trace = go.Scattergl(\n",
    "            x=np.arange(timeline.shape[0]),\n",
    "            y=timeline,\n",
    "            mode=\"lines\",\n",
    "            name=topic_names.iloc[topic_id],\n",
    "            # marker=dict(color=topic_colors[topic_id]),\n",
    "        )\n",
    "        traces.append(trace)\n",
    "    fig = go.Figure(data=traces)\n",
    "    fig.update_layout(\n",
    "        hovermode=\"closest\",\n",
    "        plot_bgcolor=\"white\",\n",
    "        margin=dict(l=0, r=0, b=0, t=0, pad=0),\n",
    "        legend_title=\"Topic\",\n",
    "    )\n",
    "    fig.update_coloraxes(showscale=False)\n",
    "    fig.update_xaxes(\n",
    "        title=\"Window\",\n",
    "        gridcolor=\"#e5e7eb\",\n",
    "        linecolor=\"#f9fafb\",\n",
    "        linewidth=6,\n",
    "        mirror=True,\n",
    "        zerolinewidth=2,\n",
    "        zerolinecolor=\"#d1d5db\",\n",
    "    )\n",
    "    fig.update_yaxes(\n",
    "        title=\"Importance\",\n",
    "        gridcolor=\"#e5e7eb\",\n",
    "        linecolor=\"#f9fafb\",\n",
    "        mirror=True,\n",
    "        linewidth=6,\n",
    "        zerolinewidth=2,\n",
    "        zerolinecolor=\"#d1d5db\",\n",
    "    )\n",
    "    return fig"
   ]
  },
  {
   "cell_type": "code",
   "execution_count": 17,
   "metadata": {},
   "outputs": [],
   "source": [
    "fig_timeline = document_timeline(time_series, topic_names)"
   ]
  },
  {
   "cell_type": "markdown",
   "metadata": {},
   "source": [
    "# Creating the Webpage"
   ]
  },
  {
   "cell_type": "markdown",
   "metadata": {},
   "source": [
    "## Modify Individual Plots"
   ]
  },
  {
   "cell_type": "code",
   "execution_count": 20,
   "metadata": {},
   "outputs": [
    {
     "data": {
      "application/vnd.plotly.v1+json": {
       "config": {
        "plotlyServerURL": "https://plot.ly"
       },
       "data": [
        {
         "mode": "lines",
         "name": "0. Oil Markets",
         "type": "scattergl",
         "x": {
          "bdata": "AAECAwQFBgcICQoLDA0ODxAREhMUFRYXGBkaGxwdHh8gISIjJCUmJygpKiss",
          "dtype": "i1"
         },
         "y": {
          "bdata": "DBEAAA8qBwsAAAAAAgwNAAAAAwkIDwcAAA8IHRsWCAAbEBwKFQAACxEADj8A",
          "dtype": "i1"
         }
        },
        {
         "mode": "lines",
         "name": "1. US Monetary Policy",
         "type": "scattergl",
         "x": {
          "bdata": "AAECAwQFBgcICQoLDA0ODxAREhMUFRYXGBkaGxwdHh8gISIjJCUmJygpKiss",
          "dtype": "i1"
         },
         "y": {
          "bdata": "AA0AABAAQDgdCQAVIQAPHAAADy8AKgAAAAMACQAGAAAgEQomCQAADBEAABoA",
          "dtype": "i1"
         }
        },
        {
         "mode": "lines",
         "name": "2. Private Markets",
         "type": "scattergl",
         "x": {
          "bdata": "AAECAwQFBgcICQoLDA0ODxAREhMUFRYXGBkaGxwdHh8gISIjJCUmJygpKiss",
          "dtype": "i1"
         },
         "y": {
          "bdata": "Gw4AAAAAABkAAAAAGgAAAAAAAAoRGAAAAAAMAAAAAAAZACoACwAAAAAAACUA",
          "dtype": "i1"
         }
        },
        {
         "mode": "lines",
         "name": "3. US-China Trade Relations",
         "type": "scattergl",
         "x": {
          "bdata": "AAECAwQFBgcICQoLDA0ODxAREhMUFRYXGBkaGxwdHh8gISIjJCUmJygpKiss",
          "dtype": "i1"
         },
         "y": {
          "bdata": "DioAAAAAHxwbAAAOFwAPJgAJEAAVEzcAAAASGRMWFQAAAAAMHQAAFCsWCB0A",
          "dtype": "i1"
         }
        },
        {
         "mode": "lines",
         "name": "4. Currencies",
         "type": "scattergl",
         "x": {
          "bdata": "AAECAwQFBgcICQoLDA0ODxAREhMUFRYXGBkaGxwdHh8gISIjJCUmJygpKiss",
          "dtype": "i1"
         },
         "y": {
          "bdata": "FAoAABAyDggMAAAGC18dFwAAABcOGwAAAA4KABUKAAABBQ0QCQAABQwEDg0A",
          "dtype": "i1"
         }
        },
        {
         "mode": "lines",
         "name": "5. Global Economic Reports",
         "type": "scattergl",
         "x": {
          "bdata": "AAECAwQFBgcICQoLDA0ODxAREhMUFRYXGBkaGxwdHh8gISIjJCUmJygpKiss",
          "dtype": "i1"
         },
         "y": {
          "bdata": "ChM3AABbBgkYJwAAGQAaFUMABRIDDQkAAAAADAMgEwAAExkHD2AAFwAABAAH",
          "dtype": "i1"
         }
        },
        {
         "mode": "lines",
         "name": "6. Manufacturing",
         "type": "scattergl",
         "x": {
          "bdata": "AAECAwQFBgcICQoLDA0ODxAREhMUFRYXGBkaGxwdHh8gISIjJCUmJygpKiss",
          "dtype": "i1"
         },
         "y": {
          "bdata": "CBEAAA0YABEAAAAADAA4CQAACQcAHQAAAAAAAAAAAAAiEB0aAAAAAA0ABwAA",
          "dtype": "i1"
         }
        },
        {
         "mode": "lines",
         "name": "7. US-Europe Diplomacy",
         "type": "scattergl",
         "x": {
          "bdata": "AAECAwQFBgcICQoLDA0ODxAREhMUFRYXGBkaGxwdHh8gISIjJCUmJygpKiss",
          "dtype": "i1"
         },
         "y": {
          "bdata": "AAAAAAAHIAAtAAAdHhlJCAAAAAAYABgAADYgABcgAAAAAAAUAAAACgAaAAAA",
          "dtype": "i1"
         }
        },
        {
         "mode": "lines",
         "name": "8. Q1 2025 Financial Results",
         "type": "scattergl",
         "x": {
          "bdata": "AAECAwQFBgcICQoLDA0ODxAREhMUFRYXGBkaGxwdHh8gISIjJCUmJygpKiss",
          "dtype": "i1"
         },
         "y": {
          "bdata": "MBIAAAAnMRUnAAAKESANAAAAAB0LAAgAAAANAAcuAAAAABkAAAAAAAAABwAA",
          "dtype": "i1"
         }
        },
        {
         "mode": "lines",
         "name": "9. Gaza Humanitarian Crisis",
         "type": "scattergl",
         "x": {
          "bdata": "AAECAwQFBgcICQoLDA0ODxAREhMUFRYXGBkaGxwdHh8gISIjJCUmJygpKiss",
          "dtype": "i1"
         },
         "y": {
          "bdata": "BhAQAAwJGgsKAAAAFxESEBIAFB0eDBQAABAKHRkTFQ0FFA0OAAkMABEHDgAA",
          "dtype": "i1"
         }
        },
        {
         "mode": "lines",
         "name": "10. Global Inflation",
         "type": "scattergl",
         "x": {
          "bdata": "AAECAwQFBgcICQoLDA0ODxAREhMUFRYXGBkaGxwdHh8gISIjJCUmJygpKiss",
          "dtype": "i1"
         },
         "y": {
          "bdata": "DQ4AAAoPEBQFCwAPERMPDgAACgYLBh4AAAshEB8UAgALDQQKEAAACyQPHBwF",
          "dtype": "i1"
         }
        },
        {
         "mode": "lines",
         "name": "11. Musk-Trump Relations",
         "type": "scattergl",
         "x": {
          "bdata": "AAECAwQFBgcICQoLDA0ODxAREhMUFRYXGBkaGxwdHh8gISIjJCUmJygpKiss",
          "dtype": "i1"
         },
         "y": {
          "bdata": "IwYAAAAAAAAAAAAAAAcAAAAAABYHAAAAAAAAHQ0NAAAAAAAdSw4AAAAnAAUF",
          "dtype": "i1"
         }
        },
        {
         "mode": "lines",
         "name": "12. Ukrain-Russia War",
         "type": "scattergl",
         "x": {
          "bdata": "AAECAwQFBgcICQoLDA0ODxAREhMUFRYXGBkaGxwdHh8gISIjJCUmJygpKiss",
          "dtype": "i1"
         },
         "y": {
          "bdata": "Gw8IAA0BAAoVHiIAAAoAMCUAHSgAHwIAAAAANgAAAAowEAoACQAAAAAAAAAA",
          "dtype": "i1"
         }
        },
        {
         "mode": "lines",
         "name": "13. Trump Tariffs",
         "type": "scattergl",
         "x": {
          "bdata": "AAECAwQFBgcICQoLDA0ODxAREhMUFRYXGBkaGxwdHh8gISIjJCUmJygpKiss",
          "dtype": "i1"
         },
         "y": {
          "bdata": "Bi0AAEkPG11LESlpIyUXFgAACxIKBDA4AAYHACAeDjRCACkYJgAAKSlcQA0I",
          "dtype": "i1"
         }
        },
        {
         "mode": "lines",
         "name": "14. Artificial Intelligence",
         "type": "scattergl",
         "x": {
          "bdata": "AAECAwQFBgcICQoLDA0ODxAREhMUFRYXGBkaGxwdHh8gISIjJCUmJygpKiss",
          "dtype": "i1"
         },
         "y": {
          "bdata": "AAAAAAIXEykAAQAAAAkOCAYAACgcLAAAAAAACgAGAwAECQwYAAAAFhUZGhQA",
          "dtype": "i1"
         }
        },
        {
         "mode": "lines",
         "name": "15. European Financial Sector",
         "type": "scattergl",
         "x": {
          "bdata": "AAECAwQFBgcICQoLDA0ODxAREhMUFRYXGBkaGxwdHh8gISIjJCUmJygpKiss",
          "dtype": "i1"
         },
         "y": {
          "bdata": "AA0AAAAUIBEDAAAKFhgsEAAADBkNCwAAAAAAAAAAAAALAAAABgAAAAwAAAAA",
          "dtype": "i1"
         }
        },
        {
         "mode": "lines",
         "name": "16. Iran-US Nuclear Negotations",
         "type": "scattergl",
         "x": {
          "bdata": "AAECAwQFBgcICQoLDA0ODxAREhMUFRYXGBkaGxwdHh8gISIjJCUmJygpKiss",
          "dtype": "i1"
         },
         "y": {
          "bdata": "DgoAAAAAAAAQBAgAAAcPBwoCBg8JBwsAAAkADAAIAAAJCwAAAAADDgsAPUIA",
          "dtype": "i1"
         }
        },
        {
         "mode": "lines",
         "name": "17. Global Agricultural Industry",
         "type": "scattergl",
         "x": {
          "bdata": "AAECAwQFBgcICQoLDA0ODxAREhMUFRYXGBkaGxwdHh8gISIjJCUmJygpKiss",
          "dtype": "i1"
         },
         "y": {
          "bdata": "AwkGAAAMAA0GAAAQDw8MCAIAAAQIBAsJAAcKBw0QAgAADg8MCAQABBAJEQ8A",
          "dtype": "i1"
         }
        },
        {
         "mode": "lines",
         "name": "18. India-Pakistan Conflict",
         "type": "scattergl",
         "x": {
          "bdata": "AAECAwQFBgcICQoLDA0ODxAREhMUFRYXGBkaGxwdHh8gISIjJCUmJygpKiss",
          "dtype": "i1"
         },
         "y": {
          "bdata": "CQgJAA4KODcnJQ0YFAAMCAAAAAAFAAAAAAAFAAAAAwAAAAQFAwAAAAAAAAAA",
          "dtype": "i1"
         }
        },
        {
         "mode": "lines",
         "name": "19. Trump Tax Bill",
         "type": "scattergl",
         "x": {
          "bdata": "AAECAwQFBgcICQoLDA0ODxAREhMUFRYXGBkaGxwdHh8gISIjJCUmJygpKiss",
          "dtype": "i1"
         },
         "y": {
          "bdata": "AAAAAAAAAA4AAAAHFBoQFgAAEhEeMRAAAAAAAAAPAAAFACYTAAAACQAAAAgA",
          "dtype": "i1"
         }
        }
       ],
       "layout": {
        "autosize": true,
        "coloraxis": {
         "showscale": false
        },
        "font": {
         "color": "#E0E0E0",
         "size": 12
        },
        "hovermode": "closest",
        "legend": {
         "title": {
          "text": "Topic"
         }
        },
        "margin": {
         "b": 30,
         "l": 30,
         "pad": 0,
         "r": 10,
         "t": 30
        },
        "paper_bgcolor": "rgba(0,0,0,0)",
        "plot_bgcolor": "rgba(15,15,25,0.8)",
        "template": {
         "data": {
          "bar": [
           {
            "error_x": {
             "color": "#f2f5fa"
            },
            "error_y": {
             "color": "#f2f5fa"
            },
            "marker": {
             "line": {
              "color": "rgb(17,17,17)",
              "width": 0.5
             },
             "pattern": {
              "fillmode": "overlay",
              "size": 10,
              "solidity": 0.2
             }
            },
            "type": "bar"
           }
          ],
          "barpolar": [
           {
            "marker": {
             "line": {
              "color": "rgb(17,17,17)",
              "width": 0.5
             },
             "pattern": {
              "fillmode": "overlay",
              "size": 10,
              "solidity": 0.2
             }
            },
            "type": "barpolar"
           }
          ],
          "carpet": [
           {
            "aaxis": {
             "endlinecolor": "#A2B1C6",
             "gridcolor": "#506784",
             "linecolor": "#506784",
             "minorgridcolor": "#506784",
             "startlinecolor": "#A2B1C6"
            },
            "baxis": {
             "endlinecolor": "#A2B1C6",
             "gridcolor": "#506784",
             "linecolor": "#506784",
             "minorgridcolor": "#506784",
             "startlinecolor": "#A2B1C6"
            },
            "type": "carpet"
           }
          ],
          "choropleth": [
           {
            "colorbar": {
             "outlinewidth": 0,
             "ticks": ""
            },
            "type": "choropleth"
           }
          ],
          "contour": [
           {
            "colorbar": {
             "outlinewidth": 0,
             "ticks": ""
            },
            "colorscale": [
             [
              0,
              "#0d0887"
             ],
             [
              0.1111111111111111,
              "#46039f"
             ],
             [
              0.2222222222222222,
              "#7201a8"
             ],
             [
              0.3333333333333333,
              "#9c179e"
             ],
             [
              0.4444444444444444,
              "#bd3786"
             ],
             [
              0.5555555555555556,
              "#d8576b"
             ],
             [
              0.6666666666666666,
              "#ed7953"
             ],
             [
              0.7777777777777778,
              "#fb9f3a"
             ],
             [
              0.8888888888888888,
              "#fdca26"
             ],
             [
              1,
              "#f0f921"
             ]
            ],
            "type": "contour"
           }
          ],
          "contourcarpet": [
           {
            "colorbar": {
             "outlinewidth": 0,
             "ticks": ""
            },
            "type": "contourcarpet"
           }
          ],
          "heatmap": [
           {
            "colorbar": {
             "outlinewidth": 0,
             "ticks": ""
            },
            "colorscale": [
             [
              0,
              "#0d0887"
             ],
             [
              0.1111111111111111,
              "#46039f"
             ],
             [
              0.2222222222222222,
              "#7201a8"
             ],
             [
              0.3333333333333333,
              "#9c179e"
             ],
             [
              0.4444444444444444,
              "#bd3786"
             ],
             [
              0.5555555555555556,
              "#d8576b"
             ],
             [
              0.6666666666666666,
              "#ed7953"
             ],
             [
              0.7777777777777778,
              "#fb9f3a"
             ],
             [
              0.8888888888888888,
              "#fdca26"
             ],
             [
              1,
              "#f0f921"
             ]
            ],
            "type": "heatmap"
           }
          ],
          "histogram": [
           {
            "marker": {
             "pattern": {
              "fillmode": "overlay",
              "size": 10,
              "solidity": 0.2
             }
            },
            "type": "histogram"
           }
          ],
          "histogram2d": [
           {
            "colorbar": {
             "outlinewidth": 0,
             "ticks": ""
            },
            "colorscale": [
             [
              0,
              "#0d0887"
             ],
             [
              0.1111111111111111,
              "#46039f"
             ],
             [
              0.2222222222222222,
              "#7201a8"
             ],
             [
              0.3333333333333333,
              "#9c179e"
             ],
             [
              0.4444444444444444,
              "#bd3786"
             ],
             [
              0.5555555555555556,
              "#d8576b"
             ],
             [
              0.6666666666666666,
              "#ed7953"
             ],
             [
              0.7777777777777778,
              "#fb9f3a"
             ],
             [
              0.8888888888888888,
              "#fdca26"
             ],
             [
              1,
              "#f0f921"
             ]
            ],
            "type": "histogram2d"
           }
          ],
          "histogram2dcontour": [
           {
            "colorbar": {
             "outlinewidth": 0,
             "ticks": ""
            },
            "colorscale": [
             [
              0,
              "#0d0887"
             ],
             [
              0.1111111111111111,
              "#46039f"
             ],
             [
              0.2222222222222222,
              "#7201a8"
             ],
             [
              0.3333333333333333,
              "#9c179e"
             ],
             [
              0.4444444444444444,
              "#bd3786"
             ],
             [
              0.5555555555555556,
              "#d8576b"
             ],
             [
              0.6666666666666666,
              "#ed7953"
             ],
             [
              0.7777777777777778,
              "#fb9f3a"
             ],
             [
              0.8888888888888888,
              "#fdca26"
             ],
             [
              1,
              "#f0f921"
             ]
            ],
            "type": "histogram2dcontour"
           }
          ],
          "mesh3d": [
           {
            "colorbar": {
             "outlinewidth": 0,
             "ticks": ""
            },
            "type": "mesh3d"
           }
          ],
          "parcoords": [
           {
            "line": {
             "colorbar": {
              "outlinewidth": 0,
              "ticks": ""
             }
            },
            "type": "parcoords"
           }
          ],
          "pie": [
           {
            "automargin": true,
            "type": "pie"
           }
          ],
          "scatter": [
           {
            "marker": {
             "line": {
              "color": "#283442"
             }
            },
            "type": "scatter"
           }
          ],
          "scatter3d": [
           {
            "line": {
             "colorbar": {
              "outlinewidth": 0,
              "ticks": ""
             }
            },
            "marker": {
             "colorbar": {
              "outlinewidth": 0,
              "ticks": ""
             }
            },
            "type": "scatter3d"
           }
          ],
          "scattercarpet": [
           {
            "marker": {
             "colorbar": {
              "outlinewidth": 0,
              "ticks": ""
             }
            },
            "type": "scattercarpet"
           }
          ],
          "scattergeo": [
           {
            "marker": {
             "colorbar": {
              "outlinewidth": 0,
              "ticks": ""
             }
            },
            "type": "scattergeo"
           }
          ],
          "scattergl": [
           {
            "marker": {
             "line": {
              "color": "#283442"
             }
            },
            "type": "scattergl"
           }
          ],
          "scattermap": [
           {
            "marker": {
             "colorbar": {
              "outlinewidth": 0,
              "ticks": ""
             }
            },
            "type": "scattermap"
           }
          ],
          "scattermapbox": [
           {
            "marker": {
             "colorbar": {
              "outlinewidth": 0,
              "ticks": ""
             }
            },
            "type": "scattermapbox"
           }
          ],
          "scatterpolar": [
           {
            "marker": {
             "colorbar": {
              "outlinewidth": 0,
              "ticks": ""
             }
            },
            "type": "scatterpolar"
           }
          ],
          "scatterpolargl": [
           {
            "marker": {
             "colorbar": {
              "outlinewidth": 0,
              "ticks": ""
             }
            },
            "type": "scatterpolargl"
           }
          ],
          "scatterternary": [
           {
            "marker": {
             "colorbar": {
              "outlinewidth": 0,
              "ticks": ""
             }
            },
            "type": "scatterternary"
           }
          ],
          "surface": [
           {
            "colorbar": {
             "outlinewidth": 0,
             "ticks": ""
            },
            "colorscale": [
             [
              0,
              "#0d0887"
             ],
             [
              0.1111111111111111,
              "#46039f"
             ],
             [
              0.2222222222222222,
              "#7201a8"
             ],
             [
              0.3333333333333333,
              "#9c179e"
             ],
             [
              0.4444444444444444,
              "#bd3786"
             ],
             [
              0.5555555555555556,
              "#d8576b"
             ],
             [
              0.6666666666666666,
              "#ed7953"
             ],
             [
              0.7777777777777778,
              "#fb9f3a"
             ],
             [
              0.8888888888888888,
              "#fdca26"
             ],
             [
              1,
              "#f0f921"
             ]
            ],
            "type": "surface"
           }
          ],
          "table": [
           {
            "cells": {
             "fill": {
              "color": "#506784"
             },
             "line": {
              "color": "rgb(17,17,17)"
             }
            },
            "header": {
             "fill": {
              "color": "#2a3f5f"
             },
             "line": {
              "color": "rgb(17,17,17)"
             }
            },
            "type": "table"
           }
          ]
         },
         "layout": {
          "annotationdefaults": {
           "arrowcolor": "#f2f5fa",
           "arrowhead": 0,
           "arrowwidth": 1
          },
          "autotypenumbers": "strict",
          "coloraxis": {
           "colorbar": {
            "outlinewidth": 0,
            "ticks": ""
           }
          },
          "colorscale": {
           "diverging": [
            [
             0,
             "#8e0152"
            ],
            [
             0.1,
             "#c51b7d"
            ],
            [
             0.2,
             "#de77ae"
            ],
            [
             0.3,
             "#f1b6da"
            ],
            [
             0.4,
             "#fde0ef"
            ],
            [
             0.5,
             "#f7f7f7"
            ],
            [
             0.6,
             "#e6f5d0"
            ],
            [
             0.7,
             "#b8e186"
            ],
            [
             0.8,
             "#7fbc41"
            ],
            [
             0.9,
             "#4d9221"
            ],
            [
             1,
             "#276419"
            ]
           ],
           "sequential": [
            [
             0,
             "#0d0887"
            ],
            [
             0.1111111111111111,
             "#46039f"
            ],
            [
             0.2222222222222222,
             "#7201a8"
            ],
            [
             0.3333333333333333,
             "#9c179e"
            ],
            [
             0.4444444444444444,
             "#bd3786"
            ],
            [
             0.5555555555555556,
             "#d8576b"
            ],
            [
             0.6666666666666666,
             "#ed7953"
            ],
            [
             0.7777777777777778,
             "#fb9f3a"
            ],
            [
             0.8888888888888888,
             "#fdca26"
            ],
            [
             1,
             "#f0f921"
            ]
           ],
           "sequentialminus": [
            [
             0,
             "#0d0887"
            ],
            [
             0.1111111111111111,
             "#46039f"
            ],
            [
             0.2222222222222222,
             "#7201a8"
            ],
            [
             0.3333333333333333,
             "#9c179e"
            ],
            [
             0.4444444444444444,
             "#bd3786"
            ],
            [
             0.5555555555555556,
             "#d8576b"
            ],
            [
             0.6666666666666666,
             "#ed7953"
            ],
            [
             0.7777777777777778,
             "#fb9f3a"
            ],
            [
             0.8888888888888888,
             "#fdca26"
            ],
            [
             1,
             "#f0f921"
            ]
           ]
          },
          "colorway": [
           "#636efa",
           "#EF553B",
           "#00cc96",
           "#ab63fa",
           "#FFA15A",
           "#19d3f3",
           "#FF6692",
           "#B6E880",
           "#FF97FF",
           "#FECB52"
          ],
          "font": {
           "color": "#f2f5fa"
          },
          "geo": {
           "bgcolor": "rgb(17,17,17)",
           "lakecolor": "rgb(17,17,17)",
           "landcolor": "rgb(17,17,17)",
           "showlakes": true,
           "showland": true,
           "subunitcolor": "#506784"
          },
          "hoverlabel": {
           "align": "left"
          },
          "hovermode": "closest",
          "mapbox": {
           "style": "dark"
          },
          "paper_bgcolor": "rgb(17,17,17)",
          "plot_bgcolor": "rgb(17,17,17)",
          "polar": {
           "angularaxis": {
            "gridcolor": "#506784",
            "linecolor": "#506784",
            "ticks": ""
           },
           "bgcolor": "rgb(17,17,17)",
           "radialaxis": {
            "gridcolor": "#506784",
            "linecolor": "#506784",
            "ticks": ""
           }
          },
          "scene": {
           "xaxis": {
            "backgroundcolor": "rgb(17,17,17)",
            "gridcolor": "#506784",
            "gridwidth": 2,
            "linecolor": "#506784",
            "showbackground": true,
            "ticks": "",
            "zerolinecolor": "#C8D4E3"
           },
           "yaxis": {
            "backgroundcolor": "rgb(17,17,17)",
            "gridcolor": "#506784",
            "gridwidth": 2,
            "linecolor": "#506784",
            "showbackground": true,
            "ticks": "",
            "zerolinecolor": "#C8D4E3"
           },
           "zaxis": {
            "backgroundcolor": "rgb(17,17,17)",
            "gridcolor": "#506784",
            "gridwidth": 2,
            "linecolor": "#506784",
            "showbackground": true,
            "ticks": "",
            "zerolinecolor": "#C8D4E3"
           }
          },
          "shapedefaults": {
           "line": {
            "color": "#f2f5fa"
           }
          },
          "sliderdefaults": {
           "bgcolor": "#C8D4E3",
           "bordercolor": "rgb(17,17,17)",
           "borderwidth": 1,
           "tickwidth": 0
          },
          "ternary": {
           "aaxis": {
            "gridcolor": "#506784",
            "linecolor": "#506784",
            "ticks": ""
           },
           "baxis": {
            "gridcolor": "#506784",
            "linecolor": "#506784",
            "ticks": ""
           },
           "bgcolor": "rgb(17,17,17)",
           "caxis": {
            "gridcolor": "#506784",
            "linecolor": "#506784",
            "ticks": ""
           }
          },
          "title": {
           "x": 0.05
          },
          "updatemenudefaults": {
           "bgcolor": "#506784",
           "borderwidth": 0
          },
          "xaxis": {
           "automargin": true,
           "gridcolor": "#283442",
           "linecolor": "#506784",
           "ticks": "",
           "title": {
            "standoff": 15
           },
           "zerolinecolor": "#283442",
           "zerolinewidth": 2
          },
          "yaxis": {
           "automargin": true,
           "gridcolor": "#283442",
           "linecolor": "#506784",
           "ticks": "",
           "title": {
            "standoff": 15
           },
           "zerolinecolor": "#283442",
           "zerolinewidth": 2
          }
         }
        },
        "title": {
         "font": {
          "color": "#00D4FF",
          "size": 16
         }
        },
        "xaxis": {
         "gridcolor": "#e5e7eb",
         "linecolor": "#f9fafb",
         "linewidth": 6,
         "mirror": true,
         "title": {
          "text": "Window"
         },
         "zerolinecolor": "#d1d5db",
         "zerolinewidth": 2
        },
        "yaxis": {
         "gridcolor": "#e5e7eb",
         "linecolor": "#f9fafb",
         "linewidth": 6,
         "mirror": true,
         "title": {
          "text": "Importance"
         },
         "zerolinecolor": "#d1d5db",
         "zerolinewidth": 2
        }
       }
      },
      "image/png": "[encoded data removed]"
     },
     "metadata": {},
     "output_type": "display_data"
    }
   ],
   "source": [
    "import dash\n",
    "from dash import dcc, html, Input, Output\n",
    "from sklearn.datasets import fetch_20newsgroups\n",
    "from sklearn.decomposition import NMF\n",
    "from sklearn.feature_extraction.text import CountVectorizer\n",
    "from topicwizard.pipeline import make_topic_pipeline\n",
    "# from topicwizard.figures import topic_map, document_topic_timeline\n",
    "from topicwizard.plots.topics import wordcloud as topic_wordcloud\n",
    "import topicwizard.prepare.topics as prepare\n",
    "\n",
    "\n",
    "\n",
    "plotly_dark_template = {\n",
    "    'layout': {\n",
    "        'paper_bgcolor': 'rgba(0,0,0,0)',\n",
    "        'plot_bgcolor': 'rgba(0,0,0,0)',\n",
    "        'font': {'color': '#E0E0E0'},\n",
    "        'colorway': ['#00D4FF', '#FF6B9D', '#00FF88', '#FFD700', '#FF4081', '#00BCD4', '#FF5722', '#9C27B0', '#4CAF50', '#FFC107'],\n",
    "    }\n",
    "}\n",
    "\n",
    "# Add neon colors with transparency to the topic map dots\n",
    "neon_colors = [\n",
    "    'rgba(0, 212, 255, 0.7)',    # Neon cyan\n",
    "    'rgba(255, 107, 157, 0.7)',  # Neon pink\n",
    "    'rgba(0, 255, 136, 0.7)',    # Neon green\n",
    "    'rgba(255, 215, 0, 0.7)',    # Neon gold\n",
    "    'rgba(255, 64, 129, 0.7)',   # Neon magenta\n",
    "    'rgba(0, 188, 212, 0.7)',    # Neon teal\n",
    "    'rgba(255, 87, 34, 0.7)',    # Neon orange\n",
    "    'rgba(156, 39, 176, 0.7)',   # Neon purple\n",
    "    'rgba(76, 175, 80, 0.7)',    # Neon lime\n",
    "    'rgba(255, 193, 7, 0.7)'     # Neon amber\n",
    "]\n",
    "\n",
    "# Force update colors and move labels inside dots\n",
    "for i, trace in enumerate(fig_topic_map.data):\n",
    "    if hasattr(trace, 'marker'):\n",
    "        # Set color for individual points if it's a scatter plot\n",
    "        if hasattr(trace, 'x') and len(trace.x) > 1:\n",
    "            # Multiple points in this trace - assign different colors\n",
    "            trace.marker.color = [neon_colors[j % len(neon_colors)] for j in range(len(trace.x))]\n",
    "        else:\n",
    "            # Single point or trace-level coloring\n",
    "            trace.marker.color = neon_colors[i % len(neon_colors)]\n",
    "          # Significantly increased to fit text labels\n",
    "        \n",
    "        # Make dots much bigger and add labels inside\n",
    "        trace.marker.size = 80\n",
    "        trace.marker.line = dict(width=2, color='rgba(255,255,255,0.8)')\n",
    "        \n",
    "        # Move text inside the markers\n",
    "        if hasattr(trace, 'text'):\n",
    "            trace.textposition = 'middle center'\n",
    "            trace.textfont = dict(\n",
    "                size=12,\n",
    "                color='white',\n",
    "                family='Arial Black'\n",
    "            )\n",
    "            trace.mode = 'markers+text'\n",
    "        \n",
    "        # If text is in hovertext, move it to text\n",
    "        if hasattr(trace, 'hovertext') and not hasattr(trace, 'text'):\n",
    "            trace.text = trace.hovertext\n",
    "            trace.textposition = 'middle center'\n",
    "            trace.textfont = dict(\n",
    "                size=12,\n",
    "                color='white',\n",
    "                family='Arial Black'\n",
    "            )\n",
    "            trace.mode = 'markers+text'\n",
    "\n",
    "# Also try updating the traces if it exists\n",
    "if hasattr(fig_topic_map, 'update_traces'):\n",
    "    fig_topic_map.update_traces(\n",
    "        marker=dict(\n",
    "            size=80 + 150*minmax_scale(attention)[9:],\n",
    "            line=dict(width=2, color='rgba(255,255,255,0.8)'),\n",
    "            colorscale=None  # Remove any existing colorscale\n",
    "        ),\n",
    "        textposition='middle center',\n",
    "        textfont=dict(\n",
    "            size=12,\n",
    "            color='white',\n",
    "            family='Arial Black'\n",
    "        ),\n",
    "        mode='markers+text'\n",
    "    )\n",
    "\n",
    "fig_topic_map.update_layout(\n",
    "    template='plotly_dark',\n",
    "    paper_bgcolor='rgba(0,0,0,0)',\n",
    "    plot_bgcolor='rgba(15,15,25,0.8)',\n",
    "    font=dict(color='#E0E0E0', size=12),\n",
    "    title=dict(font=dict(size=16, color='#00D4FF')),\n",
    "    margin=dict(l=5, r=5, t=25, b=5),\n",
    "    autosize=True,\n",
    "    height=None,\n",
    "    showlegend=False\n",
    ")\n",
    "\n",
    "# fig_timeline = document_topic_timeline(topic_data, document=corpus[0])\n",
    "fig_timeline.update_layout(\n",
    "    template='plotly_dark',\n",
    "    paper_bgcolor='rgba(0,0,0,0)',\n",
    "    plot_bgcolor='rgba(15,15,25,0.8)',\n",
    "    font=dict(color='#E0E0E0', size=12),\n",
    "    title=dict(font=dict(size=16, color='#00D4FF')),\n",
    "    margin=dict(l=30, r=10, t=30, b=30),\n",
    "    autosize=True,\n",
    "    height=None\n",
    ")\n",
    "\n",
    "# Attach document indices to timeline scatter points for selection\n",
    "# for trace in fig_timeline.data:\n",
    "#     if hasattr(trace, 'customdata') or \"text\" in str(type(trace)):\n",
    "#         trace.customdata = list(range(len(corpus)))\n",
    "\n",
    "# topic_importances, term_importances, topic_term_importances = prepare.topic_importances(\n",
    "#     topic_data[\"topic_term_matrix\"],\n",
    "#     topic_data[\"document_term_matrix\"],\n",
    "#     topic_data[\"document_topic_matrix\"],\n",
    "# )"
   ]
  },
  {
   "cell_type": "markdown",
   "metadata": {},
   "source": [
    "## Dash App"
   ]
  },
  {
   "cell_type": "code",
   "execution_count": 46,
   "metadata": {},
   "outputs": [],
   "source": [
    "import base64\n",
    "app = dash.Dash(__name__)\n",
    "image_path = \"/Users/reda/topicwizard/examples/logo2.png\"\n",
    "encoded = base64.b64encode(open(image_path, \"rb\").read()).decode()\n",
    "\n",
    "# Enhanced CSS styling\n",
    "app.layout = html.Div([\n",
    "    # Header\n",
    "    html.Div([\n",
    "        html.Div([\n",
    "            # SVG Logo as raw HTML\n",
    "            html.Div([\n",
    "                html.Div([\n",
    "                    dcc.Markdown('''\n",
    "                    <svg viewBox=\"0 0 100 100\" width=\"60\" height=\"60\" style=\"filter: drop-shadow(0 0 15px rgba(0,212,255,0.6));\">\n",
    "                        <defs>\n",
    "                            <linearGradient id=\"gradient1\" x1=\"0%\" y1=\"0%\" x2=\"100%\" y2=\"100%\">\n",
    "                                <stop offset=\"0%\" style=\"stop-color:#00D4FF\"/>\n",
    "                                <stop offset=\"100%\" style=\"stop-color:#FF6B9D\"/>\n",
    "                            </linearGradient>\n",
    "                            <linearGradient id=\"gradient2\" x1=\"0%\" y1=\"0%\" x2=\"100%\" y2=\"100%\">\n",
    "                                <stop offset=\"0%\" style=\"stop-color:#00FF88\"/>\n",
    "                                <stop offset=\"100%\" style=\"stop-color:#00D4FF\"/>\n",
    "                            </linearGradient>\n",
    "                            <radialGradient id=\"gradient3\">\n",
    "                                <stop offset=\"0%\" style=\"stop-color:#FF6B9D\"/>\n",
    "                                <stop offset=\"100%\" style=\"stop-color:#00D4FF\"/>\n",
    "                            </radialGradient>\n",
    "                            <radialGradient id=\"gradient4\">\n",
    "                                <stop offset=\"0%\" style=\"stop-color:#FFD700\"/>\n",
    "                                <stop offset=\"100%\" style=\"stop-color:#FF6B9D\"/>\n",
    "                            </radialGradient>\n",
    "                        </defs>\n",
    "                        <!-- Outer circle -->\n",
    "                        <circle cx=\"50\" cy=\"50\" r=\"48\" fill=\"none\" stroke=\"url(#gradient1)\" stroke-width=\"3\"/>\n",
    "                        <!-- Grid lines and connections -->\n",
    "                        <line x1=\"2\" y1=\"50\" x2=\"98\" y2=\"50\" stroke=\"url(#gradient2)\" stroke-width=\"2\"/>\n",
    "                        <line x1=\"50\" y1=\"2\" x2=\"50\" y2=\"98\" stroke=\"url(#gradient2)\" stroke-width=\"2\"/>\n",
    "                        <line x1=\"14\" y1=\"14\" x2=\"86\" y2=\"86\" stroke=\"url(#gradient2)\" stroke-width=\"2\"/>\n",
    "                        <line x1=\"86\" y1=\"14\" x2=\"14\" y2=\"86\" stroke=\"url(#gradient2)\" stroke-width=\"2\"/>\n",
    "                        <line x1=\"26\" y1=\"8\" x2=\"74\" y2=\"92\" stroke=\"url(#gradient2)\" stroke-width=\"1.5\"/>\n",
    "                        <line x1=\"74\" y1=\"8\" x2=\"26\" y2=\"92\" stroke=\"url(#gradient2)\" stroke-width=\"1.5\"/>\n",
    "                        <line x1=\"8\" y1=\"26\" x2=\"92\" y2=\"74\" stroke=\"url(#gradient2)\" stroke-width=\"1.5\"/>\n",
    "                        <line x1=\"92\" y1=\"26\" x2=\"8\" y2=\"74\" stroke=\"url(#gradient2)\" stroke-width=\"1.5\"/>\n",
    "                        <line x1=\"18\" y1=\"32\" x2=\"82\" y2=\"68\" stroke=\"url(#gradient2)\" stroke-width=\"1\"/>\n",
    "                        <line x1=\"82\" y1=\"32\" x2=\"18\" y2=\"68\" stroke=\"url(#gradient2)\" stroke-width=\"1\"/>\n",
    "                        <line x1=\"32\" y1=\"18\" x2=\"68\" y2=\"82\" stroke=\"url(#gradient2)\" stroke-width=\"1\"/>\n",
    "                        <line x1=\"68\" y1=\"18\" x2=\"32\" y2=\"82\" stroke=\"url(#gradient2)\" stroke-width=\"1\"/>\n",
    "                        <!-- Nodes -->\n",
    "                        <circle cx=\"2\" cy=\"50\" r=\"4\" fill=\"url(#gradient3)\"/>\n",
    "                        <circle cx=\"98\" cy=\"50\" r=\"4\" fill=\"url(#gradient3)\"/>\n",
    "                        <circle cx=\"50\" cy=\"2\" r=\"4\" fill=\"url(#gradient3)\"/>\n",
    "                        <circle cx=\"50\" cy=\"98\" r=\"4\" fill=\"url(#gradient3)\"/>\n",
    "                        <circle cx=\"14\" cy=\"14\" r=\"4\" fill=\"url(#gradient3)\"/>\n",
    "                        <circle cx=\"86\" cy=\"86\" r=\"4\" fill=\"url(#gradient3)\"/>\n",
    "                        <circle cx=\"86\" cy=\"14\" r=\"4\" fill=\"url(#gradient3)\"/>\n",
    "                        <circle cx=\"14\" cy=\"86\" r=\"4\" fill=\"url(#gradient3)\"/>\n",
    "                        <circle cx=\"26\" cy=\"26\" r=\"4\" fill=\"url(#gradient3)\"/>\n",
    "                        <circle cx=\"74\" cy=\"74\" r=\"4\" fill=\"url(#gradient3)\"/>\n",
    "                        <circle cx=\"74\" cy=\"26\" r=\"4\" fill=\"url(#gradient3)\"/>\n",
    "                        <circle cx=\"26\" cy=\"74\" r=\"4\" fill=\"url(#gradient3)\"/>\n",
    "                        <circle cx=\"38\" cy=\"50\" r=\"4\" fill=\"url(#gradient3)\"/>\n",
    "                        <circle cx=\"62\" cy=\"50\" r=\"4\" fill=\"url(#gradient3)\"/>\n",
    "                        <circle cx=\"50\" cy=\"38\" r=\"4\" fill=\"url(#gradient3)\"/>\n",
    "                        <circle cx=\"50\" cy=\"62\" r=\"4\" fill=\"url(#gradient3)\"/>\n",
    "                        <circle cx=\"50\" cy=\"50\" r=\"5\" fill=\"url(#gradient4)\"/>\n",
    "                    </svg>\n",
    "                    ''', dangerously_allow_html=True)\n",
    "                ])\n",
    "            ], style={\"margin-right\": \"1rem\"}),\n",
    "            \n",
    "            # Title Text\n",
    "    #         html.Div([\n",
    "    #            html.Img(\n",
    "    #     src=\"data:image/png;base64,\" + encoded,  # URL or local asset\n",
    "    #     style={\"height\": \"50px\"}  # Optional styling\n",
    "    # ),\n",
    "    #             html.H1(\"My Heading\", style={\"marginLeft\": \"10px\"}),\n",
    "    #             # html.H1(\"MSCI Event Analytics Dashboard\", className=\"main-title\"),\n",
    "    #             # html.P(\"Interactive Topic Modeling & Document Analysis\", className=\"subtitle\")\n",
    "    #         ])\n",
    "            html.Div(\n",
    "    [\n",
    "        html.Div(\n",
    "            [\n",
    "                html.Img(src=\"data:image/png;base64,\" + encoded, style={\"height\": \"100px\"}),\n",
    "                # html.H1(\"My Heading\", style={\"marginLeft\": \"10px\"}),\n",
    "                html.H1(\" MSCI Event Analytics Dashboard\", className=\"main-title\",style={\"marginLeft\": \"10px\"}),\n",
    "                # html.P(\"Interactive Topic Modeling & Document Analysis\", className=\"subtitle\"),\n",
    "            ],\n",
    "            style={\"display\": \"flex\", \"alignItems\": \"center\"}\n",
    "        )\n",
    "    ]\n",
    ")\n",
    "        ], style={\"display\": \"flex\", \"align-items\": \"center\", \"justify-content\": \"center\"})\n",
    "    ], className=\"header-container\"),\n",
    "\n",
    "    # Main content container\n",
    "    html.Div([\n",
    "        # Topic Analysis Section\n",
    "        html.Div([\n",
    "            html.Div([\n",
    "                html.H2(\"Topic Landscape\", className=\"section-title\"),\n",
    "                html.P(\"Click on any topic maker for a short description\", \n",
    "                      className=\"section-description\"),\n",
    "            ], className=\"section-header\"),\n",
    "            \n",
    "            html.Div([\n",
    "                # Topic Map (full width)\n",
    "                html.Div([\n",
    "                    dcc.Graph(\n",
    "                        id=\"topic-map\", \n",
    "                        figure=fig_topic_map,\n",
    "                        config={\n",
    "                            'displayModeBar': False,\n",
    "                            'responsive': True\n",
    "                        },\n",
    "                        style={\n",
    "                            'height': '100%', \n",
    "                            'width': '100%',\n",
    "                            'flex': '1'\n",
    "                        }\n",
    "                    )\n",
    "                ], className=\"chart-container topic-map-full\")\n",
    "            ], className=\"charts-row\")\n",
    "        ], className=\"section-container\"),\n",
    "\n",
    "        # Timeline & Document Section\n",
    "        html.Div([\n",
    "            html.Div([\n",
    "                html.H2(\"Document Timeline & Viewer\", className=\"section-title\"),\n",
    "                html.P(\"Explore document topics over time and read full content\", \n",
    "                      className=\"section-description\"),\n",
    "            ], className=\"section-header\"),\n",
    "            \n",
    "            html.Div([\n",
    "                # Timeline (left side)\n",
    "                html.Div([\n",
    "                    html.Div([\n",
    "                        html.H3(\"Topic Timeline\", className=\"chart-title\"),\n",
    "                        html.P(\"Click on any point for a description of the corresponding event\", \n",
    "                              className=\"chart-subtitle\")\n",
    "                    ], className=\"chart-header\"),\n",
    "                    dcc.Graph(\n",
    "                        id=\"timeline\", \n",
    "                        figure=fig_timeline,\n",
    "                        config={'displayModeBar': False},\n",
    "                        style={'height': '100%', 'width': '100%'}\n",
    "                    )\n",
    "                ], className=\"chart-container timeline\"),\n",
    "\n",
    "                # Document Viewer (right side)\n",
    "                html.Div([\n",
    "                    html.Div([\n",
    "                        html.H3(\"📄 Document Reader\", className=\"chart-title\"),\n",
    "                        html.P(\"Selected document content appears here\", \n",
    "                              className=\"chart-subtitle\", id=\"doc-subtitle\")\n",
    "                    ], className=\"chart-header\"),\n",
    "                    html.Div([\n",
    "                        html.Pre(\n",
    "                            id=\"doc-preview\",\n",
    "                            children=\"🎯 Click on a point in the timeline to read the full document content...\",\n",
    "                            className=\"document-preview\"\n",
    "                        )\n",
    "                    ], className=\"document-container\")\n",
    "                ], className=\"chart-container document-viewer\")\n",
    "            ], className=\"charts-row-horizontal\")\n",
    "        ], className=\"section-container\"),\n",
    "    ], className=\"main-container\"),\n",
    "\n",
    "    # Footer\n",
    "    html.Div([\n",
    "        html.P(\"Powered by MSCI | Interactive Topic Modeling Dashboard\", \n",
    "               className=\"footer-text\")\n",
    "    ], className=\"footer\")\n",
    "], className=\"app-container\")"
   ]
  },
  {
   "cell_type": "markdown",
   "metadata": {},
   "source": [
    "## CSS Style"
   ]
  },
  {
   "cell_type": "code",
   "execution_count": 47,
   "metadata": {},
   "outputs": [],
   "source": [
    "app.index_string = '''\n",
    "<!DOCTYPE html>\n",
    "<html>\n",
    "    <head>\n",
    "        {%metas%}\n",
    "        <title>{%title%}</title>\n",
    "        {%favicon%}\n",
    "        {%css%}\n",
    "        <link href=\"https://fonts.googleapis.com/css2?family=Inter:wght@300;400;500;600;700&display=swap\" rel=\"stylesheet\">\n",
    "        <style>\n",
    "            * {\n",
    "                margin: 0;\n",
    "                padding: 0;\n",
    "                box-sizing: border-box;\n",
    "            }\n",
    "            \n",
    "            .app-container {\n",
    "                background: linear-gradient(135deg, #0a0a1a 0%, #1a1a2e 50%, #16213e 100%);\n",
    "                min-height: 100vh;\n",
    "                font-family: 'Inter', sans-serif;\n",
    "                color: #E0E0E0;\n",
    "            }\n",
    "            \n",
    "            .header-container {\n",
    "                background: linear-gradient(90deg, rgba(0,212,255,0.1) 0%, rgba(255,107,157,0.1) 100%);\n",
    "                padding: 1.5rem 0;\n",
    "                text-align: center;\n",
    "                border-bottom: 2px solid rgba(0,212,255,0.3);\n",
    "                margin-bottom: 1rem;\n",
    "            }\n",
    "            \n",
    "            .main-title {\n",
    "                font-size: 3rem;\n",
    "                font-weight: 700;\n",
    "                background: linear-gradient(45deg, #00D4FF, #FF6B9D, #00FF88);\n",
    "                -webkit-background-clip: text;\n",
    "                -webkit-text-fill-color: transparent;\n",
    "                background-clip: text;\n",
    "                margin-bottom: 0.5rem;\n",
    "                text-shadow: 0 0 30px rgba(0,212,255,0.3);\n",
    "            }\n",
    "            \n",
    "            .subtitle {\n",
    "                font-size: 1.2rem;\n",
    "                color: #B0B0B0;\n",
    "                font-weight: 300;\n",
    "            }\n",
    "            \n",
    "            .main-container {\n",
    "                max-width: 1400px;\n",
    "                margin: 0 auto;\n",
    "                padding: 0 1rem;\n",
    "            }\n",
    "            \n",
    "            .section-container {\n",
    "                background: rgba(255,255,255,0.03);\n",
    "                border-radius: 16px;\n",
    "                padding: 1rem;\n",
    "                margin-bottom: 1rem;\n",
    "                border: 1px solid rgba(0,212,255,0.2);\n",
    "                box-shadow: 0 8px 32px rgba(0,0,0,0.3);\n",
    "                backdrop-filter: blur(10px);\n",
    "            }\n",
    "            \n",
    "            .section-header {\n",
    "                margin-bottom: 0.75rem;\n",
    "            }\n",
    "            \n",
    "            .section-title {\n",
    "                font-size: 1.8rem;\n",
    "                font-weight: 600;\n",
    "                color: #00D4FF;\n",
    "                margin-bottom: 0.5rem;\n",
    "                text-shadow: 0 0 20px rgba(0,212,255,0.4);\n",
    "            }\n",
    "            \n",
    "            .section-description {\n",
    "                color: #A0A0A0;\n",
    "                font-size: 1rem;\n",
    "                font-weight: 300;\n",
    "            }\n",
    "            \n",
    "            .charts-row {\n",
    "                display: flex;\n",
    "                gap: 1.5rem;\n",
    "                flex-wrap: wrap;\n",
    "            }\n",
    "            \n",
    "            .charts-row-horizontal {\n",
    "                display: flex;\n",
    "                gap: 1.5rem;\n",
    "                align-items: stretch;\n",
    "            }\n",
    "            \n",
    "            .chart-container {\n",
    "                background: rgba(15,15,25,0.6);\n",
    "                border-radius: 12px;\n",
    "                padding: 0.25rem;\n",
    "                border: 1px solid rgba(0,212,255,0.1);\n",
    "                transition: all 0.3s ease;\n",
    "                display: flex;\n",
    "                flex-direction: column;\n",
    "            }\n",
    "            \n",
    "            .chart-container:hover {\n",
    "                border-color: rgba(0,212,255,0.3);\n",
    "                box-shadow: 0 4px 20px rgba(0,212,255,0.15);\n",
    "            }\n",
    "            \n",
    "            .topic-map-full {\n",
    "                flex: 1;\n",
    "                min-width: 100%;\n",
    "                height: 700px;\n",
    "                display: flex;\n",
    "                flex-direction: column;\n",
    "            }\n",
    "            \n",
    "            .topic-map-full .dash-graph {\n",
    "                flex: 1 !important;\n",
    "                height: 100% !important;\n",
    "            }\n",
    "            \n",
    "            .timeline {\n",
    "                flex: 2;\n",
    "                min-width: 600px;\n",
    "                height: 650px;\n",
    "            }\n",
    "            \n",
    "            .document-viewer {\n",
    "                flex: 1;\n",
    "                min-width: 400px;\n",
    "                height: 650px;\n",
    "            }\n",
    "            \n",
    "            .chart-header {\n",
    "                margin-bottom: 0.5rem;\n",
    "            }\n",
    "            \n",
    "            .chart-title {\n",
    "                font-size: 1.3rem;\n",
    "                font-weight: 600;\n",
    "                color: #FF6B9D;\n",
    "                margin-bottom: 0.3rem;\n",
    "            }\n",
    "            \n",
    "            .chart-subtitle {\n",
    "                color: #A0A0A0;\n",
    "                font-size: 0.9rem;\n",
    "                font-weight: 300;\n",
    "            }\n",
    "            \n",
    "            .document-container {\n",
    "                background: rgba(10,10,20,0.8);\n",
    "                border-radius: 8px;\n",
    "                border: 1px solid rgba(0,255,136,0.2);\n",
    "                overflow: hidden;\n",
    "            }\n",
    "            \n",
    "            .document-preview {\n",
    "                background: transparent;\n",
    "                color: #E0E0E0;\n",
    "                padding: 1rem;\n",
    "                margin: 0;\n",
    "                font-size: 0.9rem;\n",
    "                line-height: 1.6;\n",
    "                white-space: pre-wrap;\n",
    "                height: 550px;\n",
    "                overflow-y: auto;\n",
    "                border: none;\n",
    "                font-family: 'Courier New', monospace;\n",
    "            }\n",
    "            \n",
    "            .document-preview::-webkit-scrollbar {\n",
    "                width: 8px;\n",
    "            }\n",
    "            \n",
    "            .document-preview::-webkit-scrollbar-track {\n",
    "                background: rgba(0,0,0,0.3);\n",
    "                border-radius: 4px;\n",
    "            }\n",
    "            \n",
    "            .document-preview::-webkit-scrollbar-thumb {\n",
    "                background: linear-gradient(45deg, #00D4FF, #FF6B9D);\n",
    "                border-radius: 4px;\n",
    "            }\n",
    "            \n",
    "            .document-preview::-webkit-scrollbar-thumb:hover {\n",
    "                background: linear-gradient(45deg, #0099CC, #CC5577);\n",
    "            }\n",
    "            \n",
    "            .footer {\n",
    "                background: rgba(0,0,0,0.5);\n",
    "                padding: 1.5rem;\n",
    "                text-align: center;\n",
    "                border-top: 1px solid rgba(0,212,255,0.2);\n",
    "                margin-top: 2rem;\n",
    "            }\n",
    "            \n",
    "            .footer-text {\n",
    "                color: #808080;\n",
    "                font-size: 0.9rem;\n",
    "                font-weight: 300;\n",
    "            }\n",
    "            \n",
    "            /* Responsive Design */\n",
    "            @media (max-width: 1200px) {\n",
    "                .charts-row, .charts-row-horizontal {\n",
    "                    flex-direction: column;\n",
    "                }\n",
    "                \n",
    "                .topic-map-full, .timeline, .document-viewer {\n",
    "                    min-width: 100%;\n",
    "                }\n",
    "            }\n",
    "            \n",
    "            @media (max-width: 768px) {\n",
    "                .main-title {\n",
    "                    font-size: 2rem;\n",
    "                }\n",
    "                \n",
    "                .subtitle {\n",
    "                    font-size: 1rem;\n",
    "                }\n",
    "                \n",
    "                .section-container {\n",
    "                    padding: 1rem;\n",
    "                }\n",
    "                \n",
    "                .main-container {\n",
    "                    padding: 0 0.5rem;\n",
    "                }\n",
    "            }\n",
    "        </style>\n",
    "    </head>\n",
    "    <body>\n",
    "        {%app_entry%}\n",
    "        <footer>\n",
    "            {%config%}\n",
    "            {%scripts%}\n",
    "            {%renderer%}\n",
    "        </footer>\n",
    "    </body>\n",
    "</html>\n",
    "'''\n"
   ]
  },
  {
   "cell_type": "markdown",
   "metadata": {},
   "source": [
    "## Interactivity"
   ]
  },
  {
   "cell_type": "code",
   "execution_count": 48,
   "metadata": {},
   "outputs": [],
   "source": [
    "# Show document text when clicking on timeline\n",
    "@app.callback(\n",
    "    [Output(\"doc-preview\", \"children\"),\n",
    "     Output(\"doc-subtitle\", \"children\")],\n",
    "    Input(\"timeline\", \"clickData\")\n",
    ")\n",
    "def display_selected_doc(clickData):\n",
    "    if clickData is None:\n",
    "        return (\"🎯 Click on a point in the timeline to read the full document content...\", \n",
    "                \"Selected document content appears here\")\n",
    "    \n",
    "    point = clickData[\"points\"][0]\n",
    "    # date_idx = point.get(\"customdata\", point.get(\"pointIndex\", 0))\n",
    "    date_idx = point.get(\"pointNumber\")\n",
    "    topic_idx = point.get(\"curveNumber\")\n",
    "    # Truncate very long documents for better display\n",
    "    doc_text = str(date_idx) + \", \" +str(topic_idx)\n",
    "    if len(doc_text) > 3000:\n",
    "        doc_text = doc_text[:3000] + \"\\n\\n... [Document truncated for display] ...\"\n",
    "    \n",
    "    return doc_text, f\"Document #{date_idx} | {date_idx} characters\"\n",
    "\n",
    "\n",
    "# Show wordcloud when clicking on a topic in the topic map\n",
    "@app.callback(\n",
    "    Output(\"doc-subtitle\", \"children\", allow_duplicate=True),\n",
    "    Input(\"topic-map\", \"clickData\"),\n",
    "    prevent_initial_call=True\n",
    ")\n",
    "def display_topic_selection(clickData):\n",
    "    if clickData is None:\n",
    "        return \"Selected document content appears here\"\n",
    "\n",
    "    # Extract the clicked topic index\n",
    "    point = clickData[\"points\"][0]\n",
    "    topic_idx = point.get(\"customdata\", point.get(\"pointIndex\", 0))\n",
    "    \n",
    "    return f\"Topic {topic_idx} selected from landscape view\""
   ]
  },
  {
   "cell_type": "code",
   "execution_count": 49,
   "metadata": {
    "scrolled": true
   },
   "outputs": [
    {
     "data": {
      "text/html": [
       "\n",
       "        <iframe\n",
       "            width=\"100%\"\n",
       "            height=\"650\"\n",
       "            src=\"http://127.0.0.1:8050/\"\n",
       "            frameborder=\"0\"\n",
       "            allowfullscreen\n",
       "            \n",
       "        ></iframe>\n",
       "        "
      ],
      "text/plain": [
       "<IPython.lib.display.IFrame at 0x17e4517b0>"
      ]
     },
     "metadata": {},
     "output_type": "display_data"
    }
   ],
   "source": [
    "# ------------------------\n",
    "# 7. Run app\n",
    "# ------------------------\n",
    "if __name__ == \"__main__\":\n",
    "    app.run_server(debug=True, port=8050)"
   ]
  },
  {
   "cell_type": "code",
   "execution_count": null,
   "metadata": {},
   "outputs": [],
   "source": [
    "import dash\n",
    "from dash import html\n",
    "\n",
    "app = dash.Dash(__name__)\n",
    "\n",
    "app.layout = html.Div(\n",
    "    [\n",
    "        html.Div(\n",
    "            [\n",
    "                html.Img(src=\"data:image/png;base64,\" + encoded, style={\"height\": \"50px\"}),\n",
    "                html.H1(\"My Heading\", style={\"marginLeft\": \"10px\"}),\n",
    "            ],\n",
    "            style={\"display\": \"flex\", \"alignItems\": \"center\"}\n",
    "        )\n",
    "    ]\n",
    ")\n",
    "\n",
    "if __name__ == \"__main__\":\n",
    "    app.run_server(debug=True)"
   ]
  },
  {
   "cell_type": "code",
   "execution_count": null,
   "metadata": {},
   "outputs": [],
   "source": [
    "from typing import List\n",
    "import numpy as np\n",
    "import pandas as pd\n",
    "import plotly.express as px\n",
    "import plotly.graph_objects as go\n",
    "from PIL import Image\n",
    "from sklearn.preprocessing import minmax_scale\n",
    "from wordcloud import WordCloud\n",
    "from topicwizard.plots.utils import get_default_font_path\n",
    "\n",
    "def intertopic_map(\n",
    "    x: np.ndarray,\n",
    "    y: np.ndarray,\n",
    "    topic_importances: np.ndarray,\n",
    "    topic_names: List[str],\n",
    ") -> go.Figure:\n",
    "    size = 1 + 3*minmax_scale(topic_importances)\n",
    "    text = [f\"<b>{name}</b>\" for name in topic_names]\n",
    "    topic_trace = go.Scatter(\n",
    "        x=x,\n",
    "        y=y,\n",
    "        mode=\"text+markers\",\n",
    "        text=text,\n",
    "        textfont=dict(size=10),\n",
    "        marker=dict(\n",
    "            size=size,\n",
    "            sizemode=\"area\",\n",
    "            sizeref=2.0 * max(size) / (100.0**2),\n",
    "            sizemin=4,\n",
    "            color=\"rgb(168,162,158)\",\n",
    "            line=dict(width=3, color=\"black\"),\n",
    "        ),\n",
    "        customdata=np.atleast_2d(np.arange(x.shape[0])).T,\n",
    "    )\n",
    "    fig = go.Figure([topic_trace])\n",
    "    fig.update_layout(\n",
    "        clickmode=\"event\",\n",
    "        modebar_remove=[\"lasso2d\", \"select2d\"],\n",
    "        showlegend=False,\n",
    "        hovermode=\"closest\",\n",
    "        plot_bgcolor=\"white\",\n",
    "        dragmode=\"pan\",\n",
    "        margin=dict(l=0, r=0, b=0, t=0, pad=0),\n",
    "    )\n",
    "    fig.update_traces(textposition=\"top center\", hovertemplate=\"\", hoverinfo=\"none\")\n",
    "    fig.update_coloraxes(showscale=False)\n",
    "    fig.update_xaxes(\n",
    "        showticklabels=False,\n",
    "        title=\"\",\n",
    "        gridcolor=\"#e5e7eb\",\n",
    "        linecolor=\"#f9fafb\",\n",
    "        linewidth=6,\n",
    "        mirror=True,\n",
    "        zerolinewidth=2,\n",
    "        zerolinecolor=\"#d1d5db\",\n",
    "    )\n",
    "    fig.update_yaxes(\n",
    "        showticklabels=False,\n",
    "        title=\"\",\n",
    "        gridcolor=\"#e5e7eb\",\n",
    "        linecolor=\"#f9fafb\",\n",
    "        mirror=True,\n",
    "        linewidth=6,\n",
    "        zerolinewidth=2,\n",
    "        zerolinecolor=\"#d1d5db\",\n",
    "    )\n",
    "    return fig"
   ]
  },
  {
   "cell_type": "code",
   "execution_count": null,
   "metadata": {},
   "outputs": [],
   "source": [
    "fig = intertopic_map(x=x[5:15],y=y[5:15],topic_importances=attention[5:15],topic_names=names[5:15])"
   ]
  },
  {
   "cell_type": "code",
   "execution_count": null,
   "metadata": {
    "scrolled": true
   },
   "outputs": [],
   "source": [
    "fig.show()"
   ]
  },
  {
   "cell_type": "code",
   "execution_count": null,
   "metadata": {},
   "outputs": [],
   "source": [
    "from typing import List\n",
    "import numpy as np\n",
    "import pandas as pd\n",
    "import plotly.express as px\n",
    "import plotly.graph_objects as go\n",
    "from PIL import Image\n",
    "from sklearn.preprocessing import minmax_scale\n",
    "from wordcloud import WordCloud\n",
    "from topicwizard.plots.utils import get_default_font_path\n",
    "import textwrap\n",
    "\n",
    "neon_colors = [\n",
    "        \"rgb(255, 20, 147)\",   # Deep Pink\n",
    "        \"rgb(0, 255, 255)\",    # Cyan\n",
    "        \"rgb(50, 205, 50)\",    # Lime Green\n",
    "        \"rgb(255, 69, 0)\",     # Red Orange\n",
    "        \"rgb(148, 0, 211)\",    # Dark Violet\n",
    "        \"rgb(255, 215, 0)\",    # Gold\n",
    "        \"rgb(0, 191, 255)\",    # Deep Sky Blue\n",
    "        \"rgb(255, 105, 180)\",  # Hot Pink\n",
    "        \"rgb(127, 255, 0)\",    # Chartreuse\n",
    "        \"rgb(255, 20, 147)\",   # Deep Pink\n",
    "        \"rgb(0, 255, 127)\",    # Spring Green\n",
    "        \"rgb(255, 0, 255)\",    # Magenta\n",
    "        \"rgb(0, 255, 0)\",      # Lime\n",
    "        \"rgb(255, 140, 0)\",    # Dark Orange\n",
    "        \"rgb(138, 43, 226)\",   # Blue Violet\n",
    "        \"rgb(255, 255, 0)\",    # Yellow\n",
    "    ]\n",
    "def wrap_text_for_marker(text: str, marker_size: float, chars_per_line: int = None) -> str:\n",
    "    \"\"\"\n",
    "    Wrap text to fit inside a marker based on marker size.\n",
    "    \n",
    "    Args:\n",
    "        text: The text to wrap\n",
    "        marker_size: The size of the marker\n",
    "        chars_per_line: Maximum characters per line (auto-calculated if None)\n",
    "    \n",
    "    Returns:\n",
    "        Text with <br> tags for line breaks\n",
    "    \"\"\"\n",
    "    if chars_per_line is None:\n",
    "        # Estimate characters per line based on marker size\n",
    "        # This is a rough approximation - you may need to adjust the scaling factor\n",
    "        base_chars = 8  # Base number of characters for smallest marker\n",
    "        chars_per_line = max(4, int(base_chars + (marker_size - 1) * 6))\n",
    "    \n",
    "    # Remove HTML tags if any\n",
    "    clean_text = text.replace(\"<b>\", \"\").replace(\"</b>\", \"\")\n",
    "    \n",
    "    # Wrap the text\n",
    "    wrapped_lines = textwrap.wrap(clean_text, width=chars_per_line)\n",
    "    \n",
    "    # Join with HTML line breaks and re-add bold formatting\n",
    "    wrapped_text = \"<br>\".join([f\"<b>{line}</b>\" for line in wrapped_lines])\n",
    "    \n",
    "    return wrapped_text\n",
    "\n",
    "def calculate_font_size(marker_size: float, num_lines: int) -> int:\n",
    "    \"\"\"\n",
    "    Calculate appropriate font size based on marker size and number of text lines.\n",
    "    \n",
    "    Args:\n",
    "        marker_size: The size of the marker\n",
    "        num_lines: Number of lines of text\n",
    "    \n",
    "    Returns:\n",
    "        Font size in pixels\n",
    "    \"\"\"\n",
    "    # Base font size calculation\n",
    "    base_font_size = max(6, int(marker_size * 8))\n",
    "    \n",
    "    # Reduce font size if there are multiple lines\n",
    "    if num_lines > 1:\n",
    "        base_font_size = max(4, int(base_font_size / (1 + 0.2 * (num_lines - 1))))\n",
    "    \n",
    "    return min(base_font_size, 14)  # Cap at 16px\n",
    "\n",
    "def intertopic_map(\n",
    "    x: np.ndarray,\n",
    "    y: np.ndarray,\n",
    "    topic_importances: np.ndarray,\n",
    "    topic_names: List[str],\n",
    "    max_chars_per_line: int = None,\n",
    ") -> go.Figure:\n",
    "    \"\"\"\n",
    "    Create an intertopic map with text that fits inside markers.\n",
    "    \n",
    "    Args:\n",
    "        x: X coordinates for topics\n",
    "        y: Y coordinates for topics\n",
    "        topic_importances: Importance scores for topics\n",
    "        topic_names: Names/labels for topics\n",
    "        max_chars_per_line: Maximum characters per line (auto-calculated if None)\n",
    "    \n",
    "    Returns:\n",
    "        Plotly figure\n",
    "    \"\"\"\n",
    "    # Scale marker sizes\n",
    "    size = 30 + minmax_scale(topic_importances) * 70  # Increased scaling for better visibility\n",
    "    \n",
    "    # Wrap text for each marker based on its size\n",
    "    wrapped_texts = []\n",
    "    font_sizes = []\n",
    "    \n",
    "    for i, (name, marker_size) in enumerate(zip(topic_names, size)):\n",
    "        wrapped_text = wrap_text_for_marker(name, marker_size, max_chars_per_line)\n",
    "        wrapped_texts.append(wrapped_text)\n",
    "        \n",
    "        # Count lines for font size calculation\n",
    "        num_lines = wrapped_text.count(\"<br>\") + 1\n",
    "        font_size = calculate_font_size(marker_size, num_lines)\n",
    "        font_sizes.append(font_size)\n",
    "    \n",
    "    # Create the scatter plot\n",
    "    topic_trace = go.Scatter(\n",
    "        x=x,\n",
    "        y=y,\n",
    "        mode=\"text+markers\",\n",
    "        text=wrapped_texts,\n",
    "        textfont=dict(size=font_sizes),  # Use calculated font sizes\n",
    "        marker=dict(\n",
    "            size=size,\n",
    "            sizemode=\"area\",\n",
    "            sizeref=2.0 * max(size) / (100.0**2),\n",
    "            sizemin=10,  # Increased minimum size to accommodate text\n",
    "            color=generate_neon_colors(len(x)),\n",
    "            line=dict(width=2, color=\"black\"),\n",
    "            opacity=0.8,  # Slightly transparent for better text visibility\n",
    "        ),\n",
    "        customdata=np.atleast_2d(np.arange(x.shape[0])).T,\n",
    "        textposition=\"middle center\",  # Center text in markers\n",
    "    )\n",
    "    \n",
    "    fig = go.Figure([topic_trace])\n",
    "    fig.update_layout(\n",
    "        clickmode=\"event\",\n",
    "        modebar_remove=[\"lasso2d\", \"select2d\"],\n",
    "        showlegend=False,\n",
    "        hovermode=\"closest\",\n",
    "        plot_bgcolor=\"white\",\n",
    "        dragmode=\"pan\",\n",
    "        margin=dict(l=20, r=20, b=20, t=20, pad=10),  # Added some margin\n",
    "        font=dict(family=\"Arial, sans-serif\"),  # Consistent font family\n",
    "    )\n",
    "    \n",
    "    # Remove hover info since text is already visible\n",
    "    fig.update_traces(hovertemplate=\"\", hoverinfo=\"none\")\n",
    "    fig.update_coloraxes(showscale=False)\n",
    "    \n",
    "    # Style axes\n",
    "    fig.update_xaxes(\n",
    "        showticklabels=False,\n",
    "        title=\"\",\n",
    "        gridcolor=\"#e5e7eb\",\n",
    "        linecolor=\"#f9fafb\",\n",
    "        linewidth=6,\n",
    "        mirror=True,\n",
    "        zerolinewidth=2,\n",
    "        zerolinecolor=\"#d1d5db\",\n",
    "    )\n",
    "    fig.update_yaxes(\n",
    "        showticklabels=False,\n",
    "        title=\"\",\n",
    "        gridcolor=\"#e5e7eb\",\n",
    "        linecolor=\"#f9fafb\",\n",
    "        mirror=True,\n",
    "        linewidth=6,\n",
    "        zerolinewidth=2,\n",
    "        zerolinecolor=\"#d1d5db\",\n",
    "    )\n",
    "    \n",
    "    return fig\n",
    "\n",
    "def generate_neon_colors(n_colors: int) -> List[str]:\n",
    "    \"\"\"\n",
    "    Generate a list of vibrant neon colors with transparency.\n",
    "    \n",
    "    Args:\n",
    "        n_colors: Number of colors to generate\n",
    "        \n",
    "    Returns:\n",
    "        List of RGBA color strings\n",
    "    \"\"\"\n",
    "    neon_colors = []\n",
    "    \n",
    "    # Pre-defined neon colors for variety\n",
    "    base_neon_hues = [\n",
    "        (0.83, 1.0, 1.0),    # Neon Blue/Cyan\n",
    "        (0.33, 1.0, 1.0),    # Neon Green\n",
    "        (0.17, 1.0, 1.0),    # Neon Orange/Yellow\n",
    "        (0.92, 1.0, 1.0),    # Neon Pink/Magenta\n",
    "        (0.58, 1.0, 1.0),    # Neon Purple\n",
    "        (0.08, 1.0, 1.0),    # Neon Red\n",
    "        (0.50, 1.0, 1.0),    # Neon Cyan\n",
    "        (0.75, 1.0, 1.0),    # Neon Violet\n",
    "        (0.42, 1.0, 1.0),    # Neon Lime\n",
    "        (0.0, 1.0, 1.0),     # Neon Red-Pink\n",
    "        (0.25, 1.0, 1.0),    # Neon Yellow-Green\n",
    "        (0.67, 1.0, 1.0),    # Neon Blue-Purple\n",
    "    ]\n",
    "    \n",
    "    # If we need more colors than pre-defined, generate additional ones\n",
    "    if n_colors > len(base_neon_hues):\n",
    "        for i in range(len(base_neon_hues), n_colors):\n",
    "            hue = (i / n_colors) % 1.0\n",
    "            base_neon_hues.append((hue, 1.0, 1.0))\n",
    "    \n",
    "    # Convert HSV to RGB and create RGBA strings\n",
    "    for i in range(n_colors):\n",
    "        h, s, v = base_neon_hues[i % len(base_neon_hues)]\n",
    "        r, g, b = colorsys.hsv_to_rgb(h, s, v)\n",
    "        \n",
    "        # Convert to 0-255 range and create RGBA with transparency\n",
    "        r_255 = int(r * 255)\n",
    "        g_255 = int(g * 255)\n",
    "        b_255 = int(b * 255)\n",
    "        \n",
    "        # Use 0.7 alpha for nice transparency while maintaining vibrancy\n",
    "        rgba_color = f\"rgba({r_255}, {g_255}, {b_255}, 0.7)\"\n",
    "        neon_colors.append(rgba_color)\n",
    "    \n",
    "    return neon_colors\n",
    "\n",
    "fig = intertopic_map(x=x[9:],y=y[9:],topic_importances=attention[9:],topic_names=names[9:])\n",
    "fig.show()"
   ]
  }
 ],
 "metadata": {
  "kernelspec": {
   "display_name": "Python 3 (ipykernel)",
   "language": "python",
   "name": "python3"
  },
  "language_info": {
   "codemirror_mode": {
    "name": "ipython",
    "version": 3
   },
   "file_extension": ".py",
   "mimetype": "text/x-python",
   "name": "python",
   "nbconvert_exporter": "python",
   "pygments_lexer": "ipython3",
   "version": "3.13.5"
  },
  "vscode": {
   "interpreter": {
    "hash": "9c06fce9efe3b740ad40108b2e7c0cf02314403bb8b3c5ddbaf7651b541f9aa3"
   }
  }
 },
 "nbformat": 4,
 "nbformat_minor": 4
}
